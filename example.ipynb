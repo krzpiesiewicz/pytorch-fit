{
 "cells": [
  {
   "cell_type": "markdown",
   "source": [
    "Uncomment the following line in order to install pytorch-fit package."
   ],
   "metadata": {
    "collapsed": false,
    "pycharm": {
     "name": "#%% md\n"
    }
   }
  },
  {
   "cell_type": "code",
   "execution_count": 1,
   "metadata": {
    "collapsed": true
   },
   "outputs": [],
   "source": [
    "# !pip install --use-feature=in-tree-build ./"
   ]
  },
  {
   "cell_type": "code",
   "execution_count": 2,
   "outputs": [],
   "source": [
    "%load_ext autoreload\n",
    "%autoreload 1\n",
    "%aimport pytorch_fit"
   ],
   "metadata": {
    "collapsed": false,
    "pycharm": {
     "name": "#%%\n"
    }
   }
  },
  {
   "cell_type": "code",
   "execution_count": 3,
   "outputs": [],
   "source": [
    "import numpy as np\n",
    "import pandas as pd\n",
    "import torch\n",
    "from torch import nn\n",
    "from torch.nn import functional as F\n",
    "from torch import optim\n",
    "from torch.utils.data import Dataset, DataLoader\n",
    "\n",
    "import pytorch_fit\n",
    "from pytorch_fit import fit, evaluate\n",
    "from pytorch_fit.metrics import Accuracy, ConfusionMatrix\n",
    "from pytorch_fit.stopping import EarlyStopping\n",
    "from pytorch_fit.visuals import plot_history, display_last_history,\\\n",
    "    display_network, format_vertical_headers"
   ],
   "metadata": {
    "collapsed": false,
    "pycharm": {
     "name": "#%%\n"
    }
   }
  },
  {
   "cell_type": "code",
   "execution_count": 4,
   "outputs": [],
   "source": [
    "%matplotlib inline\n",
    "device = torch.device(\"cuda\" if torch.cuda.is_available() else \"cpu\")"
   ],
   "metadata": {
    "collapsed": false,
    "pycharm": {
     "name": "#%%\n"
    }
   }
  },
  {
   "cell_type": "code",
   "execution_count": 5,
   "outputs": [],
   "source": [
    "loss = nn.BCELoss(reduction=\"sum\")\n",
    "\n",
    "val_loss_stopping = EarlyStopping(\n",
    "    \"Loss\", \"val_loss\", n_epochs=10, stats_fun=np.max, min_change=-0.001\n",
    ")\n",
    "val_acc_stopping = EarlyStopping(\n",
    "    \"Accuracy\", \"val_acc\", n_epochs=10, stats_fun=np.mean, min_change=0.01\n",
    ")\n",
    "val_stopping = val_loss_stopping.and_(val_acc_stopping)\n",
    "\n",
    "train_loss_stopping = EarlyStopping(\n",
    "    \"Loss\", \"train_loss\", n_epochs=10, stats_fun=np.max, min_change=-0.001,\n",
    "    relative_change_type=True\n",
    ")\n",
    "train_acc_stopping = EarlyStopping(\n",
    "    \"Accuracy\", \"train_acc\", n_epochs=10, stats_fun=np.max, min_change=0.01\n",
    ")\n",
    "train_stopping = train_loss_stopping.and_(train_acc_stopping)\n",
    "\n",
    "stopping = train_stopping.or_(val_stopping)"
   ],
   "metadata": {
    "collapsed": false,
    "pycharm": {
     "name": "#%%\n"
    }
   }
  }
 ],
 "metadata": {
  "kernelspec": {
   "display_name": "Python 3",
   "language": "python",
   "name": "python3"
  },
  "language_info": {
   "codemirror_mode": {
    "name": "ipython",
    "version": 2
   },
   "file_extension": ".py",
   "mimetype": "text/x-python",
   "name": "python",
   "nbconvert_exporter": "python",
   "pygments_lexer": "ipython2",
   "version": "2.7.6"
  }
 },
 "nbformat": 4,
 "nbformat_minor": 0
}